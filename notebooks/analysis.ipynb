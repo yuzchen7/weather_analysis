{
 "cells": [
  {
   "cell_type": "markdown",
   "id": "63d0a69d",
   "metadata": {},
   "source": [
    "# Analysis\n",
    "\n",
    "Create your own EDA below! Create as many code-blocks as you need.\n",
    "\n",
    "Once you've completed your EDA, complete the section titled **Reflections** where you will answer questions about your EDA."
   ]
  },
  {
   "cell_type": "code",
   "execution_count": null,
   "id": "6655a736",
   "metadata": {},
   "outputs": [],
   "source": [
    "import pandas as pd \n",
    "import numpy as np\n",
    "\n",
    "import seaborn as sns\n",
    "import matplotlib.pyplot as plt"
   ]
  },
  {
   "cell_type": "code",
   "execution_count": null,
   "id": "868ea7cd",
   "metadata": {},
   "outputs": [],
   "source": [
    "# import coffee data\n",
    "coffee = pd.read_csv(\"../data/weather/coffee_output.csv\")\n",
    "\n",
    "# import weather data\n",
    "weather = pd.read_csv(\"../data/weather/weater_output.csv\")"
   ]
  },
  {
   "cell_type": "code",
   "execution_count": null,
   "id": "71bfd191",
   "metadata": {},
   "outputs": [],
   "source": [
    "# TODO: Merge these two dataframes together\n",
    "\n",
    "..."
   ]
  },
  {
   "cell_type": "code",
   "execution_count": null,
   "id": "44f435eb",
   "metadata": {},
   "outputs": [],
   "source": [
    "# TODO: View the first 5 rows of your data\n",
    "\n",
    "..."
   ]
  },
  {
   "cell_type": "code",
   "execution_count": null,
   "id": "9600b65c",
   "metadata": {},
   "outputs": [],
   "source": [
    "# TODO: Check for null values \n",
    "\n",
    "..."
   ]
  },
  {
   "cell_type": "code",
   "execution_count": null,
   "id": "ff411571",
   "metadata": {},
   "outputs": [],
   "source": [
    "# TODO: Drop rows that contain null values\n",
    "\n",
    "..."
   ]
  },
  {
   "cell_type": "code",
   "execution_count": null,
   "id": "22fd1940",
   "metadata": {},
   "outputs": [],
   "source": [
    "# TODO: BEGIN YOUR EDA!\n",
    "\n"
   ]
  },
  {
   "cell_type": "markdown",
   "id": "a33e1db5",
   "metadata": {},
   "source": [
    "## Reflections\n",
    "\n",
    "Answer each question based on the visualizations that you've generated.\n",
    "\n",
    "Remember, you must justify your answers with proof! Look back to W6D3 for more context."
   ]
  },
  {
   "cell_type": "markdown",
   "id": "fe46532b",
   "metadata": {},
   "source": [
    "What is the relationship between temp_avg and 60kgs_bag? How *strong* is this relationship? Use pearson's correlation coefficient.\n",
    "\n",
    "Answer here"
   ]
  },
  {
   "cell_type": "markdown",
   "id": "ccd4f1e8",
   "metadata": {},
   "source": [
    "What is the relationship between minimum humidity and 60kgs_bag? How *strong* is this relationship? Use pearson's correlation coefficient.\n",
    "\n",
    "Answer here"
   ]
  },
  {
   "cell_type": "markdown",
   "id": "0b500aa4",
   "metadata": {},
   "source": [
    "What is the relationship between rain_max and 60kgs_bag? How *strong* is this relationship? Use pearson's correlation coefficient.\n",
    "\n",
    "Answer here"
   ]
  },
  {
   "cell_type": "markdown",
   "id": "be3dab9c",
   "metadata": {},
   "source": [
    "What is the relationship between average wind speed and 60kgs_bag? How *strong* is this relationship? Use pearson's correlation coefficient.\n",
    "\n",
    "Answer here"
   ]
  },
  {
   "cell_type": "markdown",
   "id": "ee6ea06a",
   "metadata": {},
   "source": [
    "Perform the same bivariate analysis between the mentioned weather columns (temp_avg, hum_min, rain_max, and wind_avg) and a coffee-related column of your choice (bearing_trees, nonbearing_trees, bearing_trees_per_hectare, etc). Which directions do these relationships follow? What are the strengths of these relationships?\n",
    "\n",
    "Answer here"
   ]
  },
  {
   "cell_type": "markdown",
   "id": "18ba1ed2",
   "metadata": {},
   "source": [
    "Which weather factor seems to influence coffee production the most? \n",
    "\n",
    "Answer here"
   ]
  },
  {
   "cell_type": "markdown",
   "id": "95e8c38b",
   "metadata": {},
   "source": [
    "Which data would you collect to continue exploring the impacts of weather and economic forces on coffee production?\n",
    "\n",
    "Answer here"
   ]
  },
  {
   "cell_type": "markdown",
   "id": "0ca6f497",
   "metadata": {},
   "source": [
    "If you were preparing a report to provide coffee farmers, which weather condititions would you state are the most favorable for coffee growing (assuming any exist)?\n",
    "\n",
    "Answer here"
   ]
  }
 ],
 "metadata": {
  "language_info": {
   "name": "python"
  }
 },
 "nbformat": 4,
 "nbformat_minor": 5
}
